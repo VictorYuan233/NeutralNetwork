{
 "nbformat": 4,
 "nbformat_minor": 2,
 "metadata": {
  "language_info": {
   "name": "python",
   "codemirror_mode": {
    "name": "ipython",
    "version": 3
   }
  },
  "orig_nbformat": 2,
  "file_extension": ".py",
  "mimetype": "text/x-python",
  "name": "python",
  "npconvert_exporter": "python",
  "pygments_lexer": "ipython3",
  "version": 3
 },
 "cells": [
  {
   "cell_type": "markdown",
   "execution_count": null,
   "metadata": {},
   "outputs": [],
   "source": [
    "# 《Python进行神经网络编程》"
   ]
  },
  {
   "cell_type": "markdown",
   "execution_count": null,
   "metadata": {},
   "outputs": [],
   "source": [
    "## 导入必要的库函数"
   ]
  },
  {
   "cell_type": "code",
   "execution_count": 1,
   "metadata": {},
   "outputs": [],
   "source": [
    "import numpy as np\n",
    "from scipy.special import expit as sigmoid      #sigmoid激活函数\n",
    "from scipy.ndimage import rotate                #旋转图像的函数"
   ]
  },
  {
   "cell_type": "markdown",
   "execution_count": null,
   "metadata": {},
   "outputs": [],
   "source": [
    "## 定义各种常数"
   ]
  },
  {
   "cell_type": "code",
   "execution_count": 2,
   "metadata": {},
   "outputs": [],
   "source": [
    "InputNodes = 784                    #输入层网络节点，输入28 * 28图片，784像素点，所以输入784个节点\n",
    "HiddenNodes = 200                   #隐藏层节点200哥\n",
    "OutputNodes = 10                    #输出层节点，共0-9，10个数字\n",
    "LearnRate = 0.1                     #学习率0.1\n",
    "\n",
    "Epoches = 10                        #学习10个世代"
   ]
  },
  {
   "cell_type": "markdown",
   "execution_count": null,
   "metadata": {},
   "outputs": [],
   "source": [
    "## 定义神经网络对象"
   ]
  },
  {
   "cell_type": "code",
   "execution_count": 3,
   "metadata": {},
   "outputs": [],
   "source": [
    "class NeutralNetwork:\n",
    "    '神经网络对象'\n",
    "    def __init__(self, input_nodes = 3, hidden_nodes = 3, output_nodes = 3, learn_rate = 0.3):\n",
    "        '初始化神经网络'\n",
    "        # 参数设置\n",
    "        self.inodes = input_nodes\n",
    "        self.hnodes = hidden_nodes\n",
    "        self.onodes = output_nodes\n",
    "        self.lr = learn_rate\n",
    "        self.af = sigmoid\n",
    "        # 生成均值为0，标准差为输入节点数开平方倒数的随机权重矩阵\n",
    "        self.wih = np.random.normal(0.0, pow(self.hnodes, -0.5), (self.hnodes, self.inodes))\n",
    "        self.who = np.random.normal(0.0, pow(self.onodes, -0.5), (self.onodes, self.hnodes))\n",
    "        \n",
    "    def Train(self, input_lists, output_lists):\n",
    "        '神经网络训练函数'\n",
    "        # 将输入的列表转换为输入矩阵与目标矩阵\n",
    "        inputs = np.array(input_lists, ndmin = 2).T\n",
    "        targets = np.array(output_lists, ndmin = 2).T\n",
    "        # 隐层输入等于权重乘输入层的输出\n",
    "        hidden_inputs = np.dot(self.wih, inputs)\n",
    "        # 隐层输出为输入施加激活函数\n",
    "        hidden_outputs = self.af(hidden_inputs)\n",
    "\n",
    "        # 输出层输入等于权重乘隐层输出\n",
    "        final_inputs = np.dot(self.who, hidden_outputs)\n",
    "        # 输出层输出为输入施加激活函数\n",
    "        final_outputs = self.af(final_inputs)\n",
    "\n",
    "        # 输出误差为目标值减输出值\n",
    "        final_errors = targets - final_outputs\n",
    "        # 反向传播误差，隐藏层误差为输出层误差乘以网络权重\n",
    "        hidden_errors = np.dot(self.who.T, final_errors)\n",
    "        \n",
    "        # 根据反向传播的误差调整权重\n",
    "        self.who += self.lr * np.dot(final_errors * final_outputs * (1.0 - final_outputs) , hidden_outputs.T)\n",
    "        self.wih += self.lr * np.dot(hidden_errors * hidden_outputs * (1.0 - hidden_outputs), inputs.T)\n",
    "\n",
    "    def Query(self, inputs_list):\n",
    "        '根据已训练好的网络查询输入得到的输出'\n",
    "        inputs = np.array(inputs_list, ndmin = 2).T\n",
    "        # 计算隐层输出\n",
    "        hidden_inputs = np.dot(self.wih, inputs)\n",
    "        hidden_outputs = self.af(hidden_inputs)\n",
    "        # 计算输出层输出\n",
    "        final_inputs = np.dot(self.who, hidden_outputs)\n",
    "        final_outputs = self.af(final_inputs)\n",
    "\n",
    "        return final_outputs"
   ]
  },
  {
   "cell_type": "markdown",
   "execution_count": null,
   "metadata": {},
   "outputs": [],
   "source": [
    "## 训练网络"
   ]
  },
  {
   "cell_type": "code",
   "execution_count": 4,
   "metadata": {},
   "outputs": [
    {
     "name": "stdout",
     "output_type": "stream",
     "text": "Epoch:  1\nEpoch:  2\nEpoch:  3\nEpoch:  4\nEpoch:  5\nEpoch:  6\nEpoch:  7\nEpoch:  8\nEpoch:  9\nEpoch:  10\n"
    }
   ],
   "source": [
    "# 打开文件获取数据\n",
    "train_data_file = open('mnist_train.csv','r')\n",
    "# 按行读取，获取一个列表，如果训练数据较多的话可以用readline函数一行一行地读，读一行处理一行\n",
    "train_data_lists = train_data_file.readlines()\n",
    "# 关闭文件\n",
    "train_data_file.close()\n",
    "\n",
    "#定义一个神经网络对象\n",
    "n = NeutralNetwork(InputNodes, HiddenNodes, OutputNodes, LearnRate)\n",
    "#循环Epoches个世代，提高准确率\n",
    "for x in range(Epoches):\n",
    "    # 输出训练的世代数，以便时刻了解训练进度\n",
    "    print('Epoch: ',x+1)\n",
    "    # 按行读取数据进行训练，读取到的数据是一个字符串\n",
    "    for record in train_data_lists:\n",
    "        #按照逗号，分开各个值，返回一个数字组成的列表\n",
    "        all_values = record.split(',')\n",
    "        # 调整输入值到范围（0.01，1），asfarry输入为一个字符串\n",
    "        inputs = np.asfarray(all_values[1:]) /255 * 0.99 + 0.01\n",
    "        # 调整输出，标准答案为1，其他为0.01\n",
    "        targets = np.zeros(OutputNodes) + 0.01\n",
    "        targets[int(all_values[0])] += 0.99\n",
    "        # 调用神经网络训练函数训练\n",
    "        n.Train(inputs, targets)\n",
    "        #调整图片角度+-10度再次进行训练\n",
    "        inputs_plug10_img = rotate(inputs.reshape(28,28), 10, cval = 0.01, reshape = False)\n",
    "        n.Train(inputs_plug10_img.reshape(1, 784), targets)\n",
    "        inputs_minus10_img = rotate(inputs.reshape(28,28), -10, cval = 0.01, reshape = False)\n",
    "        n.Train(inputs_minus10_img.reshape(1, 784), targets)"
   ]
  },
  {
   "cell_type": "markdown",
   "execution_count": null,
   "metadata": {},
   "outputs": [],
   "source": [
    "## 测试网络"
   ]
  },
  {
   "cell_type": "code",
   "execution_count": 5,
   "metadata": {},
   "outputs": [
    {
     "name": "stdout",
     "output_type": "stream",
     "text": "Accuracy Rate:   97.1 %\n"
    }
   ],
   "source": [
    "#从文件获取测试集数据\n",
    "test_data_file = open('mnist_test.csv','r')\n",
    "test_data_lists = test_data_file.readlines()\n",
    "test_data_file.close()\n",
    "\n",
    "Score = 0  #正确个数\n",
    "\n",
    "for test_data in test_data_lists:\n",
    "    # 处理输入数据调整为0.01-1的矩阵\n",
    "    all_values = test_data.split(',')\n",
    "    inputs = np.asfarray(all_values[1:]) /255 * 0.99 + 0.01\n",
    "    # 查询经过神经网络以后的输出值\n",
    "    answer = n.Query(inputs)\n",
    "    # 获取输出矩阵的最大值角标，判断是否正确，如果正确score+1\n",
    "    if np.argmax(answer) == int(all_values[0]):\n",
    "        Score += 1\n",
    "\n",
    "print('Accuracy Rate:  ', 100.0 * Score /len(test_data_lists), '%' )"
   ]
  },
  {
   "cell_type": "code",
   "execution_count": null,
   "metadata": {},
   "outputs": [],
   "source": []
  }
 ]
}